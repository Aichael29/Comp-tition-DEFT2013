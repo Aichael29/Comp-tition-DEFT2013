{
 "cells": [
  {
   "cell_type": "code",
   "execution_count": 4,
   "id": "a659ecfa",
   "metadata": {},
   "outputs": [],
   "source": [
    "import numpy as np\n",
    "import pandas as pd\n",
    "import matplotlib.pyplot as plt\n",
    "import tensorflow as tf\n",
    "from tensorflow.keras.models import Sequential\n",
    "from tensorflow.keras.layers import Embedding, LSTM, Dense, Bidirectional\n",
    "from tensorflow.keras.preprocessing.text import Tokenizer\n",
    "from tensorflow.keras.preprocessing.sequence import pad_sequences\n",
    "from tensorflow.keras.utils import to_categorical\n",
    "from sklearn.model_selection import train_test_split\n",
    "from sklearn.preprocessing import LabelEncoder\n",
    "from sklearn.metrics import classification_report\n",
    "\n",
    "# Chemins vers les fichiers de données\n",
    "train_path = 'C:/Users/dell latitude 7400/Downloads/Tal/data/train.csv'\n",
    "test_path = 'C:/Users/dell latitude 7400/Downloads/Tal/data/test.csv'\n",
    "\n",
    "# Charger les données\n",
    "train_data = pd.read_csv(train_path)\n",
    "test_data = pd.read_csv(test_path)"
   ]
  },
  {
   "cell_type": "code",
   "execution_count": 5,
   "id": "11553b1d",
   "metadata": {},
   "outputs": [],
   "source": [
    "# Prétraitement des données\n",
    "tokenizer = Tokenizer(num_words=10000, oov_token=\"<OOV>\")\n",
    "tokenizer.fit_on_texts(train_data['titre'] + \" \" + train_data['recette'])\n",
    "train_sequences = tokenizer.texts_to_sequences(train_data['titre'] + \" \" + train_data['recette'])\n",
    "test_sequences = tokenizer.texts_to_sequences(test_data['titre'] + \" \" + test_data['recette'])\n",
    "\n",
    "max_length = max(len(x) for x in train_sequences) "
   ]
  },
  {
   "cell_type": "code",
   "execution_count": 6,
   "id": "2cfbe283",
   "metadata": {},
   "outputs": [],
   "source": [
    "# Padding des séquences\n",
    "train_padded_sequences = pad_sequences(train_sequences, maxlen=max_length, padding='post')\n",
    "test_padded_sequences = pad_sequences(test_sequences, maxlen=max_length, padding='post')\n",
    "\n",
    "# Encodage des labels\n",
    "label_encoder = LabelEncoder()\n",
    "train_labels = label_encoder.fit_transform(train_data['type'])\n",
    "train_labels_categorical = to_categorical(train_labels)\n",
    "\n",
    "# Séparation des données en ensembles d'entraînement et de validation\n",
    "X_train, X_valid, y_train, y_valid = train_test_split(train_padded_sequences, train_labels_categorical, test_size=0.2, random_state=42)\n"
   ]
  },
  {
   "cell_type": "code",
   "execution_count": 8,
   "id": "08f33016",
   "metadata": {},
   "outputs": [
    {
     "name": "stdout",
     "output_type": "stream",
     "text": [
      "Epoch 1/10\n",
      "\u001b[1m312/312\u001b[0m \u001b[32m━━━━━━━━━━━━━━━━━━━━\u001b[0m\u001b[37m\u001b[0m \u001b[1m288s\u001b[0m 907ms/step - accuracy: 0.6706 - loss: 0.7057 - val_accuracy: 0.8341 - val_loss: 0.3626\n",
      "Epoch 2/10\n",
      "\u001b[1m312/312\u001b[0m \u001b[32m━━━━━━━━━━━━━━━━━━━━\u001b[0m\u001b[37m\u001b[0m \u001b[1m289s\u001b[0m 926ms/step - accuracy: 0.8716 - loss: 0.3203 - val_accuracy: 0.8581 - val_loss: 0.3313\n",
      "Epoch 3/10\n",
      "\u001b[1m312/312\u001b[0m \u001b[32m━━━━━━━━━━━━━━━━━━━━\u001b[0m\u001b[37m\u001b[0m \u001b[1m293s\u001b[0m 939ms/step - accuracy: 0.9090 - loss: 0.2298 - val_accuracy: 0.8517 - val_loss: 0.3410\n",
      "Epoch 4/10\n",
      "\u001b[1m312/312\u001b[0m \u001b[32m━━━━━━━━━━━━━━━━━━━━\u001b[0m\u001b[37m\u001b[0m \u001b[1m296s\u001b[0m 947ms/step - accuracy: 0.9175 - loss: 0.2052 - val_accuracy: 0.8525 - val_loss: 0.3663\n",
      "Epoch 5/10\n",
      "\u001b[1m312/312\u001b[0m \u001b[32m━━━━━━━━━━━━━━━━━━━━\u001b[0m\u001b[37m\u001b[0m \u001b[1m290s\u001b[0m 929ms/step - accuracy: 0.9374 - loss: 0.1622 - val_accuracy: 0.8425 - val_loss: 0.4481\n",
      "Epoch 6/10\n",
      "\u001b[1m312/312\u001b[0m \u001b[32m━━━━━━━━━━━━━━━━━━━━\u001b[0m\u001b[37m\u001b[0m \u001b[1m280s\u001b[0m 897ms/step - accuracy: 0.9522 - loss: 0.1298 - val_accuracy: 0.8305 - val_loss: 0.4582\n",
      "Epoch 7/10\n",
      "\u001b[1m312/312\u001b[0m \u001b[32m━━━━━━━━━━━━━━━━━━━━\u001b[0m\u001b[37m\u001b[0m \u001b[1m330s\u001b[0m 1s/step - accuracy: 0.9624 - loss: 0.1046 - val_accuracy: 0.8401 - val_loss: 0.4756\n",
      "Epoch 8/10\n",
      "\u001b[1m312/312\u001b[0m \u001b[32m━━━━━━━━━━━━━━━━━━━━\u001b[0m\u001b[37m\u001b[0m \u001b[1m349s\u001b[0m 1s/step - accuracy: 0.9661 - loss: 0.1014 - val_accuracy: 0.8369 - val_loss: 0.5232\n",
      "Epoch 9/10\n",
      "\u001b[1m312/312\u001b[0m \u001b[32m━━━━━━━━━━━━━━━━━━━━\u001b[0m\u001b[37m\u001b[0m \u001b[1m352s\u001b[0m 1s/step - accuracy: 0.9735 - loss: 0.0759 - val_accuracy: 0.8325 - val_loss: 0.5875\n",
      "Epoch 10/10\n",
      "\u001b[1m312/312\u001b[0m \u001b[32m━━━━━━━━━━━━━━━━━━━━\u001b[0m\u001b[37m\u001b[0m \u001b[1m305s\u001b[0m 977ms/step - accuracy: 0.9775 - loss: 0.0633 - val_accuracy: 0.8389 - val_loss: 0.6031\n"
     ]
    },
    {
     "data": {
      "text/plain": [
       "<keras.src.callbacks.history.History at 0x1c03e2bb990>"
      ]
     },
     "execution_count": 8,
     "metadata": {},
     "output_type": "execute_result"
    }
   ],
   "source": [
    "# Construction du modèle RNN\n",
    "model = Sequential([\n",
    "    Embedding(input_dim=10000, output_dim=64),\n",
    "    Bidirectional(LSTM(64)),\n",
    "    Dense(64, activation='relu'),\n",
    "    Dense(train_labels_categorical.shape[1], activation='softmax')\n",
    "])\n",
    "\n",
    "model.compile(loss='categorical_crossentropy', optimizer='adam', metrics=['accuracy'])\n",
    "\n",
    "# Entraînement du modèle\n",
    "model.fit(X_train, y_train, epochs=10, validation_data=(X_valid, y_valid))"
   ]
  },
  {
   "cell_type": "code",
   "execution_count": 9,
   "id": "ebd94a75",
   "metadata": {},
   "outputs": [
    {
     "name": "stdout",
     "output_type": "stream",
     "text": [
      "\u001b[1m44/44\u001b[0m \u001b[32m━━━━━━━━━━━━━━━━━━━━\u001b[0m\u001b[37m\u001b[0m \u001b[1m17s\u001b[0m 368ms/step\n"
     ]
    }
   ],
   "source": [
    "# Préparation des labels pour l'ensemble de test \n",
    "test_labels = label_encoder.transform(test_data['type'])\n",
    "test_labels_categorical = to_categorical(test_labels)\n",
    "\n",
    "# Prédiction sur l'ensemble de test\n",
    "y_pred = model.predict(test_padded_sequences)\n",
    "y_pred_classes = np.argmax(y_pred, axis=1)"
   ]
  },
  {
   "cell_type": "code",
   "execution_count": null,
   "id": "790390d0",
   "metadata": {},
   "outputs": [],
   "source": []
  }
 ],
 "metadata": {
  "kernelspec": {
   "display_name": "Python 3 (ipykernel)",
   "language": "python",
   "name": "python3"
  },
  "language_info": {
   "codemirror_mode": {
    "name": "ipython",
    "version": 3
   },
   "file_extension": ".py",
   "mimetype": "text/x-python",
   "name": "python",
   "nbconvert_exporter": "python",
   "pygments_lexer": "ipython3",
   "version": "3.11.5"
  }
 },
 "nbformat": 4,
 "nbformat_minor": 5
}
