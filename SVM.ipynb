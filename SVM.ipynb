{
 "cells": [
  {
   "cell_type": "code",
   "execution_count": 39,
   "id": "787e04d2",
   "metadata": {},
   "outputs": [
    {
     "name": "stdout",
     "output_type": "stream",
     "text": [
      "Rapport de classification :\n",
      "                 precision    recall  f1-score   support\n",
      "\n",
      "       Dessert       0.97      0.99      0.98       726\n",
      "        Entrée       0.76      0.65      0.70       611\n",
      "Plat principal       0.83      0.89      0.86      1158\n",
      "\n",
      "      accuracy                           0.86      2495\n",
      "     macro avg       0.86      0.84      0.85      2495\n",
      "  weighted avg       0.86      0.86      0.86      2495\n",
      "\n",
      "Précision micro-moyenne par classe : 0.861\n"
     ]
    }
   ],
   "source": [
    "import pandas as pd\n",
    "from sklearn.model_selection import train_test_split\n",
    "from sklearn.feature_extraction.text import TfidfVectorizer\n",
    "from sklearn.svm import SVC  # Support Vector Machine classifier\n",
    "from sklearn.metrics import classification_report, precision_score\n",
    "from sklearn.pipeline import make_pipeline\n",
    "\n",
    "# Chargement des données\n",
    "data = pd.read_csv(r'C:\\Users\\dell latitude 7400\\Downloads\\train.csv')\n",
    "\n",
    "# Combinaison du titre et de la recette pour former la feature de texte\n",
    "data['text'] = data['titre'] + ' ' + data['recette']\n",
    "\n",
    "# Préparation des ensembles d'entraînement et de test\n",
    "X = data['text']\n",
    "y = data['type']\n",
    "X_train, X_test, y_train, y_test = train_test_split(X, y, test_size=0.2, random_state=42)\n",
    "\n",
    "# Création d'une pipeline pour la vectorisation TF-IDF et l'entraînement du modèle SVM\n",
    "model = make_pipeline(TfidfVectorizer(stop_words='english', max_features=1000), SVC(kernel='linear'))\n",
    "\n",
    "# Entraînement du modèle\n",
    "model.fit(X_train, y_train)\n",
    "\n",
    "# Prédiction sur l'ensemble de test\n",
    "y_pred = model.predict(X_test)\n",
    "\n",
    "# Évaluation des performances\n",
    "print(\"Rapport de classification :\\n\", classification_report(y_test, y_pred))\n",
    "\n",
    "# Calcul de la précision micro-moyenne par classe\n",
    "precision = precision_score(y_test, y_pred, average='micro')\n",
    "print(f\"Précision micro-moyenne par classe : {precision:.3f}\")\n"
   ]
  },
  {
   "cell_type": "code",
   "execution_count": null,
   "id": "667d14d2",
   "metadata": {},
   "outputs": [],
   "source": []
  }
 ],
 "metadata": {
  "kernelspec": {
   "display_name": "Python 3 (ipykernel)",
   "language": "python",
   "name": "python3"
  },
  "language_info": {
   "codemirror_mode": {
    "name": "ipython",
    "version": 3
   },
   "file_extension": ".py",
   "mimetype": "text/x-python",
   "name": "python",
   "nbconvert_exporter": "python",
   "pygments_lexer": "ipython3",
   "version": "3.11.5"
  }
 },
 "nbformat": 4,
 "nbformat_minor": 5
}
