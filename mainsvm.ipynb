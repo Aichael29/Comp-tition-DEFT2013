{
 "cells": [
  {
   "cell_type": "code",
   "execution_count": 62,
   "id": "65b6bea9",
   "metadata": {},
   "outputs": [
    {
     "name": "stderr",
     "output_type": "stream",
     "text": [
      "[nltk_data] Downloading package stopwords to C:\\Users\\dell latitude\n",
      "[nltk_data]     7400\\AppData\\Roaming\\nltk_data...\n",
      "[nltk_data]   Package stopwords is already up-to-date!\n"
     ]
    }
   ],
   "source": [
    "import pandas as pd\n",
    "from sklearn.model_selection import train_test_split\n",
    "from sklearn.feature_extraction.text import TfidfVectorizer\n",
    "from sklearn.svm import SVC  \n",
    "from sklearn.metrics import classification_report\n",
    "from sklearn.pipeline import make_pipeline\n",
    "from nltk.corpus import stopwords\n",
    "import nltk\n",
    "\n",
    "# Assurez-vous d'avoir téléchargé les stopwords de NLTK\n",
    "nltk.download('stopwords')\n",
    "\n",
    "# Chargement des mots vides en français et conversion en liste\n",
    "stopwords_fr = list(set(stopwords.words('french')))\n",
    "\n",
    "# Chargement des données\n",
    "train = pd.read_csv('C:/Users/dell latitude 7400/Downloads/Tal/data/train.csv')\n",
    "test = pd.read_csv('C:/Users/dell latitude 7400/Downloads/Tal/data/test.csv')\n",
    "\n"
   ]
  },
  {
   "cell_type": "code",
   "execution_count": 63,
   "id": "ee906969",
   "metadata": {},
   "outputs": [],
   "source": [
    "# Préparation des données\n",
    "train['text'] = train['titre'] + ' ' + train['recette']\n",
    "# Séparation des ensembles d'entraînement et de validation\n",
    "X_train, X_valid, y_train, y_valid = train_test_split(train['text'], train['type'], test_size=0.2, random_state=42)\n",
    "\n",
    "# l'ensemble de test \n",
    "test['text'] = test['titre'] + ' ' + test['recette']\n",
    "\n",
    "# Préparation de l'ensemble de test\n",
    "X_test = test['text']\n",
    "y_test = test['type']"
   ]
  },
  {
   "cell_type": "code",
   "execution_count": 64,
   "id": "0abba2f6",
   "metadata": {},
   "outputs": [
    {
     "name": "stdout",
     "output_type": "stream",
     "text": [
      "Rapport de classification pour la baseline (ensemble de validation) :\n",
      "                precision    recall  f1-score   support\n",
      "\n",
      "       Dessert       0.00      0.00      0.00       726\n",
      "        Entrée       0.00      0.00      0.00       611\n",
      "Plat principal       0.46      1.00      0.63      1158\n",
      "\n",
      "      accuracy                           0.46      2495\n",
      "     macro avg       0.15      0.33      0.21      2495\n",
      "  weighted avg       0.22      0.46      0.29      2495\n",
      "\n",
      "Rapport de classification pour la baseline (ensemble de test) :\n",
      "                precision    recall  f1-score   support\n",
      "\n",
      "       Dessert       0.00      0.00      0.00       407\n",
      "        Entrée       0.00      0.00      0.00       337\n",
      "Plat principal       0.46      1.00      0.63       644\n",
      "\n",
      "      accuracy                           0.46      1388\n",
      "     macro avg       0.15      0.33      0.21      1388\n",
      "  weighted avg       0.22      0.46      0.29      1388\n",
      "\n"
     ]
    }
   ],
   "source": [
    "# Création et entraînement de la baseline\n",
    "baseline_model = DummyClassifier(strategy='most_frequent')\n",
    "baseline_model.fit(X_train, y_train)\n",
    "\n",
    "# Prédiction avec la baseline sur l'ensemble de validation\n",
    "baseline_valid_predictions = baseline_model.predict(X_valid)\n",
    "print(\"Rapport de classification pour la baseline (ensemble de validation) :\")\n",
    "print(classification_report(y_valid, baseline_valid_predictions, zero_division=0))\n",
    "\n",
    "# Prédiction avec la baseline sur l'ensemble de test\n",
    "baseline_test_predictions = baseline_model.predict(X_test)\n",
    "print(\"Rapport de classification pour la baseline (ensemble de test) :\")\n",
    "print(classification_report(y_test, baseline_test_predictions, zero_division=0))"
   ]
  },
  {
   "cell_type": "code",
   "execution_count": 65,
   "id": "a2eb7dbb",
   "metadata": {},
   "outputs": [
    {
     "name": "stdout",
     "output_type": "stream",
     "text": [
      "Rapport de classification pour le modèle SVM :\n",
      "                precision    recall  f1-score   support\n",
      "\n",
      "       Dessert       0.97      0.99      0.98       726\n",
      "        Entrée       0.75      0.66      0.70       611\n",
      "Plat principal       0.84      0.88      0.86      1158\n",
      "\n",
      "      accuracy                           0.86      2495\n",
      "     macro avg       0.85      0.84      0.85      2495\n",
      "  weighted avg       0.86      0.86      0.86      2495\n",
      "\n",
      "Rapport de classification pour le modèle SVM sur l'ensemble de test :\n",
      "                precision    recall  f1-score   support\n",
      "\n",
      "       Dessert       0.98      0.99      0.98       407\n",
      "        Entrée       0.75      0.67      0.71       337\n",
      "Plat principal       0.84      0.88      0.86       644\n",
      "\n",
      "      accuracy                           0.86      1388\n",
      "     macro avg       0.86      0.85      0.85      1388\n",
      "  weighted avg       0.86      0.86      0.86      1388\n",
      "\n"
     ]
    }
   ],
   "source": [
    "# Création d'une pipeline pour la vectorisation TF-IDF et l'entraînement du modèle SVM\n",
    "model = make_pipeline(TfidfVectorizer(stop_words=stopwords_fr, max_features=1000), SVC(kernel='linear'))\n",
    "\n",
    "# Entraînement du modèle\n",
    "model.fit(X_train, y_train)\n",
    "\n",
    "# Prédiction et évaluation sur l'ensemble de validation\n",
    "valid_predictions = model.predict(X_valid)\n",
    "print(\"Rapport de classification pour le modèle SVM :\")\n",
    "print(classification_report(y_valid, valid_predictions, zero_division=0))\n",
    "\n",
    "# Prédiction et évaluation sur l'ensemble de test\n",
    "test_predictions = model.predict(X_test)\n",
    "print(\"Rapport de classification pour le modèle SVM sur l'ensemble de test :\")\n",
    "print(classification_report(y_test, test_predictions, zero_division=0))\n"
   ]
  },
  {
   "cell_type": "code",
   "execution_count": null,
   "id": "84ced38d",
   "metadata": {},
   "outputs": [],
   "source": []
  },
  {
   "cell_type": "code",
   "execution_count": null,
   "id": "8356d5c2",
   "metadata": {},
   "outputs": [],
   "source": []
  }
 ],
 "metadata": {
  "kernelspec": {
   "display_name": "Python 3 (ipykernel)",
   "language": "python",
   "name": "python3"
  },
  "language_info": {
   "codemirror_mode": {
    "name": "ipython",
    "version": 3
   },
   "file_extension": ".py",
   "mimetype": "text/x-python",
   "name": "python",
   "nbconvert_exporter": "python",
   "pygments_lexer": "ipython3",
   "version": "3.11.5"
  }
 },
 "nbformat": 4,
 "nbformat_minor": 5
}
